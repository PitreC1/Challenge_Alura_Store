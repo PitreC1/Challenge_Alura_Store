{
  "cells": [
    {
      "cell_type": "markdown",
      "metadata": {
        "id": "RhEdWd9YUR6H"
      },
      "source": [
        "### Importación de datos\n",
        "\n"
      ]
    },
    {
      "cell_type": "code",
      "execution_count": 47,
      "metadata": {},
      "outputs": [],
      "source": [
        "import pandas as pd\n",
        "import matplotlib.pyplot as plt"
      ]
    },
    {
      "cell_type": "code",
      "execution_count": 1,
      "metadata": {
        "colab": {
          "base_uri": "https://localhost:8080/",
          "height": 206
        },
        "id": "T3EvaeQ_INIL",
        "outputId": "e9c5efe1-82a3-43ab-e8d7-6d01e4fa3514"
      },
      "outputs": [
        {
          "data": {
            "text/html": [
              "<div>\n",
              "<style scoped>\n",
              "    .dataframe tbody tr th:only-of-type {\n",
              "        vertical-align: middle;\n",
              "    }\n",
              "\n",
              "    .dataframe tbody tr th {\n",
              "        vertical-align: top;\n",
              "    }\n",
              "\n",
              "    .dataframe thead th {\n",
              "        text-align: right;\n",
              "    }\n",
              "</style>\n",
              "<table border=\"1\" class=\"dataframe\">\n",
              "  <thead>\n",
              "    <tr style=\"text-align: right;\">\n",
              "      <th></th>\n",
              "      <th>Producto</th>\n",
              "      <th>Categoría del Producto</th>\n",
              "      <th>Precio</th>\n",
              "      <th>Costo de envío</th>\n",
              "      <th>Fecha de Compra</th>\n",
              "      <th>Vendedor</th>\n",
              "      <th>Lugar de Compra</th>\n",
              "      <th>Calificación</th>\n",
              "      <th>Método de pago</th>\n",
              "      <th>Cantidad de cuotas</th>\n",
              "      <th>lat</th>\n",
              "      <th>lon</th>\n",
              "    </tr>\n",
              "  </thead>\n",
              "  <tbody>\n",
              "    <tr>\n",
              "      <th>0</th>\n",
              "      <td>Asistente virtual</td>\n",
              "      <td>Electrónicos</td>\n",
              "      <td>164300.0</td>\n",
              "      <td>6900.0</td>\n",
              "      <td>16/01/2021</td>\n",
              "      <td>Pedro Gomez</td>\n",
              "      <td>Bogotá</td>\n",
              "      <td>4</td>\n",
              "      <td>Tarjeta de crédito</td>\n",
              "      <td>8</td>\n",
              "      <td>4.60971</td>\n",
              "      <td>-74.08175</td>\n",
              "    </tr>\n",
              "    <tr>\n",
              "      <th>1</th>\n",
              "      <td>Mesa de comedor</td>\n",
              "      <td>Muebles</td>\n",
              "      <td>192300.0</td>\n",
              "      <td>8400.0</td>\n",
              "      <td>18/05/2022</td>\n",
              "      <td>Beatriz Morales</td>\n",
              "      <td>Medellín</td>\n",
              "      <td>1</td>\n",
              "      <td>Tarjeta de crédito</td>\n",
              "      <td>4</td>\n",
              "      <td>6.25184</td>\n",
              "      <td>-75.56359</td>\n",
              "    </tr>\n",
              "    <tr>\n",
              "      <th>2</th>\n",
              "      <td>Juego de mesa</td>\n",
              "      <td>Juguetes</td>\n",
              "      <td>209600.0</td>\n",
              "      <td>15900.0</td>\n",
              "      <td>15/03/2021</td>\n",
              "      <td>Juan Fernandez</td>\n",
              "      <td>Cartagena</td>\n",
              "      <td>1</td>\n",
              "      <td>Tarjeta de crédito</td>\n",
              "      <td>1</td>\n",
              "      <td>10.39972</td>\n",
              "      <td>-75.51444</td>\n",
              "    </tr>\n",
              "    <tr>\n",
              "      <th>3</th>\n",
              "      <td>Microondas</td>\n",
              "      <td>Electrodomésticos</td>\n",
              "      <td>757500.0</td>\n",
              "      <td>41000.0</td>\n",
              "      <td>03/05/2022</td>\n",
              "      <td>Juan Fernandez</td>\n",
              "      <td>Cali</td>\n",
              "      <td>4</td>\n",
              "      <td>Nequi</td>\n",
              "      <td>1</td>\n",
              "      <td>3.43722</td>\n",
              "      <td>-76.52250</td>\n",
              "    </tr>\n",
              "    <tr>\n",
              "      <th>4</th>\n",
              "      <td>Silla de oficina</td>\n",
              "      <td>Muebles</td>\n",
              "      <td>335200.0</td>\n",
              "      <td>20200.0</td>\n",
              "      <td>07/11/2020</td>\n",
              "      <td>Maria Alfonso</td>\n",
              "      <td>Medellín</td>\n",
              "      <td>5</td>\n",
              "      <td>Nequi</td>\n",
              "      <td>1</td>\n",
              "      <td>6.25184</td>\n",
              "      <td>-75.56359</td>\n",
              "    </tr>\n",
              "  </tbody>\n",
              "</table>\n",
              "</div>"
            ],
            "text/plain": [
              "            Producto Categoría del Producto    Precio  Costo de envío  \\\n",
              "0  Asistente virtual           Electrónicos  164300.0          6900.0   \n",
              "1    Mesa de comedor                Muebles  192300.0          8400.0   \n",
              "2      Juego de mesa               Juguetes  209600.0         15900.0   \n",
              "3         Microondas      Electrodomésticos  757500.0         41000.0   \n",
              "4   Silla de oficina                Muebles  335200.0         20200.0   \n",
              "\n",
              "  Fecha de Compra         Vendedor Lugar de Compra  Calificación  \\\n",
              "0      16/01/2021      Pedro Gomez          Bogotá             4   \n",
              "1      18/05/2022  Beatriz Morales        Medellín             1   \n",
              "2      15/03/2021   Juan Fernandez       Cartagena             1   \n",
              "3      03/05/2022   Juan Fernandez            Cali             4   \n",
              "4      07/11/2020    Maria Alfonso        Medellín             5   \n",
              "\n",
              "       Método de pago  Cantidad de cuotas       lat       lon  \n",
              "0  Tarjeta de crédito                   8   4.60971 -74.08175  \n",
              "1  Tarjeta de crédito                   4   6.25184 -75.56359  \n",
              "2  Tarjeta de crédito                   1  10.39972 -75.51444  \n",
              "3               Nequi                   1   3.43722 -76.52250  \n",
              "4               Nequi                   1   6.25184 -75.56359  "
            ]
          },
          "execution_count": 1,
          "metadata": {},
          "output_type": "execute_result"
        }
      ],
      "source": [
        "\n",
        "\n",
        "url = \"https://raw.githubusercontent.com/alura-es-cursos/challenge1-data-science-latam/refs/heads/main/base-de-datos-challenge1-latam/tienda_1%20.csv\"\n",
        "url2 = \"https://raw.githubusercontent.com/alura-es-cursos/challenge1-data-science-latam/refs/heads/main/base-de-datos-challenge1-latam/tienda_2.csv\"\n",
        "url3 = \"https://raw.githubusercontent.com/alura-es-cursos/challenge1-data-science-latam/refs/heads/main/base-de-datos-challenge1-latam/tienda_3.csv\"\n",
        "url4 = \"https://raw.githubusercontent.com/alura-es-cursos/challenge1-data-science-latam/refs/heads/main/base-de-datos-challenge1-latam/tienda_4.csv\"\n",
        "\n",
        "tienda = pd.read_csv(url)\n",
        "tienda2 = pd.read_csv(url2)\n",
        "tienda3 = pd.read_csv(url3)\n",
        "tienda4 = pd.read_csv(url4)\n",
        "\n",
        "tienda.head()"
      ]
    },
    {
      "cell_type": "markdown",
      "metadata": {
        "id": "X62IW3KFUIYm"
      },
      "source": [
        "# 1. Análisis de facturación\n",
        "\n"
      ]
    },
    {
      "cell_type": "code",
      "execution_count": 2,
      "metadata": {
        "id": "xykobSftV64I"
      },
      "outputs": [
        {
          "name": "stdout",
          "output_type": "stream",
          "text": [
            "Ingresos de cada tienda\n",
            "Ingreso de la tienda 1 : 1150880400.0\n",
            "Ingreso de la tienda 2 : 1116343500.0\n",
            "Ingreso de la tienda 3 : 1098019600.0\n",
            "Ingreso de la tienda 4 : 1038375700.0\n"
          ]
        }
      ],
      "source": [
        "ingreso_total_tienda = tienda['Precio'].sum()\n",
        "ingreso_total_tienda2 = tienda2['Precio'].sum()\n",
        "ingreso_total_tienda3 = tienda3['Precio'].sum()\n",
        "ingreso_total_tienda4 = tienda4['Precio'].sum()\n",
        "\n",
        "ingresos = [ingreso_total_tienda,ingreso_total_tienda2,ingreso_total_tienda3,ingreso_total_tienda4]\n",
        "\n",
        "print('Ingresos de cada tienda')\n",
        "\n",
        "for i in range(4):\n",
        "    print(f'Ingreso de la tienda {i+1} : {ingresos[i]}')"
      ]
    },
    {
      "cell_type": "markdown",
      "metadata": {
        "id": "2V_vcAPzWZmR"
      },
      "source": [
        "# 2. Ventas por categoría"
      ]
    },
    {
      "cell_type": "code",
      "execution_count": 3,
      "metadata": {
        "id": "KDyr8E71V3m-"
      },
      "outputs": [],
      "source": [
        "categorias_tienda = dict(tienda['Categoría del Producto'].value_counts().head(3))\n",
        "categorias_tienda2 = dict(tienda2['Categoría del Producto'].value_counts().head(3))\n",
        "categorias_tienda3 = dict(tienda3['Categoría del Producto'].value_counts().head(3))\n",
        "categorias_tienda4 = dict(tienda4['Categoría del Producto'].value_counts().head(3))\n",
        "\n",
        "categorias_total = [categorias_tienda,categorias_tienda2,categorias_tienda3,categorias_tienda4]"
      ]
    },
    {
      "cell_type": "code",
      "execution_count": 4,
      "metadata": {},
      "outputs": [
        {
          "name": "stdout",
          "output_type": "stream",
          "text": [
            "Categorías más populares de las tiendas:\n",
            "\n",
            "Tienda 1:\n",
            "  Muebles, cantidad vendida: 465\n",
            "  Electrónicos, cantidad vendida: 448\n",
            "  Juguetes, cantidad vendida: 324\n",
            "\n",
            "Tienda 2:\n",
            "  Muebles, cantidad vendida: 442\n",
            "  Electrónicos, cantidad vendida: 422\n",
            "  Juguetes, cantidad vendida: 313\n",
            "\n",
            "Tienda 3:\n",
            "  Muebles, cantidad vendida: 499\n",
            "  Electrónicos, cantidad vendida: 451\n",
            "  Juguetes, cantidad vendida: 315\n",
            "\n",
            "Tienda 4:\n",
            "  Muebles, cantidad vendida: 480\n",
            "  Electrónicos, cantidad vendida: 451\n",
            "  Juguetes, cantidad vendida: 338\n"
          ]
        }
      ],
      "source": [
        "print('Categorías más populares de las tiendas:')\n",
        "for i, tienda_categorias in enumerate(categorias_total, start=1):\n",
        "    print(f'\\nTienda {i}:')\n",
        "    for categoria, cantidad in tienda_categorias.items():\n",
        "        print(f'  {categoria}, cantidad vendida: {cantidad}')\n"
      ]
    },
    {
      "cell_type": "markdown",
      "metadata": {
        "id": "Rq6tU_xSY3jk"
      },
      "source": [
        "# 3. Calificación promedio de la tienda\n"
      ]
    },
    {
      "cell_type": "code",
      "execution_count": 5,
      "metadata": {
        "id": "bh3jjjJwY5MU"
      },
      "outputs": [
        {
          "name": "stdout",
          "output_type": "stream",
          "text": [
            "Valoracipon media de cada tienda\n",
            "Valoración de la tienda 1 : 3.976685036032217\n",
            "Valoración de la tienda 2 : 4.037303942348453\n",
            "Valoración de la tienda 3 : 4.048325561678677\n",
            "Valoración de la tienda 4 : 3.9957591178965224\n"
          ]
        }
      ],
      "source": [
        "calificaciones = [tienda['Calificación'].mean(),tienda2['Calificación'].mean(),tienda3['Calificación'].mean(),tienda4['Calificación'].mean()]\n",
        "\n",
        "print('Valoracipon media de cada tienda')\n",
        "\n",
        "for i in range(4):\n",
        "    print(f'Valoración de la tienda {i+1} : {calificaciones[i]}')"
      ]
    },
    {
      "cell_type": "markdown",
      "metadata": {
        "id": "DmNp1KPBZCm-"
      },
      "source": [
        "# 4. Productos más y menos vendidos"
      ]
    },
    {
      "cell_type": "code",
      "execution_count": 38,
      "metadata": {
        "id": "0Sw3sd4IZIGW"
      },
      "outputs": [
        {
          "name": "stdout",
          "output_type": "stream",
          "text": [
            "Productos más vendidos tienda 1:\n",
            "Producto\n",
            "Microondas       60\n",
            "TV LED UHD 4K    60\n",
            "Armario          60\n",
            "Name: count, dtype: int64\n",
            "\n",
            "\n",
            "Productos más vendidos tienda 2:\n",
            "Producto\n",
            "Iniciando en programación    65\n",
            "Microondas                   62\n",
            "Batería                      61\n",
            "Name: count, dtype: int64\n",
            "\n",
            "\n",
            "Productos más vendidos tienda 3:\n",
            "Producto\n",
            "Kit de bancas      57\n",
            "Mesa de comedor    56\n",
            "Cama king          56\n",
            "Name: count, dtype: int64\n",
            "\n",
            "\n",
            "Productos más vendidos tienda 4:\n",
            "Producto\n",
            "Cama box                   62\n",
            "Cubertería                 59\n",
            "Dashboards con Power BI    56\n",
            "Name: count, dtype: int64\n",
            "\n",
            "\n"
          ]
        }
      ],
      "source": [
        "\n",
        "ventas = [tienda['Producto'].value_counts(),tienda2['Producto'].value_counts(),tienda3['Producto'].value_counts(),tienda4['Producto'].value_counts()]\n",
        "\n",
        "for i in range(len(ventas)):\n",
        "    print(f'Productos más vendidos tienda {i+1}:')\n",
        "    print(ventas[i].head(3))\n",
        "    print('\\n')\n",
        "\n",
        "\n"
      ]
    },
    {
      "cell_type": "markdown",
      "metadata": {
        "id": "Fl0cGi3bZKqU"
      },
      "source": [
        "# 5. Envío promedio por tienda"
      ]
    },
    {
      "cell_type": "code",
      "execution_count": 61,
      "metadata": {
        "id": "S2JeaCykZNy9"
      },
      "outputs": [
        {
          "name": "stdout",
          "output_type": "stream",
          "text": [
            "Costo promedio envio tienda 1\n",
            "26018\n",
            "\n",
            "\n",
            "Costo promedio envio tienda 2\n",
            "25216\n",
            "\n",
            "\n",
            "Costo promedio envio tienda 3\n",
            "24805\n",
            "\n",
            "\n",
            "Costo promedio envio tienda 4\n",
            "23459\n",
            "\n",
            "\n"
          ]
        }
      ],
      "source": [
        "promedio_envio = [int(tienda['Costo de envío'].mean()),int(tienda2['Costo de envío'].mean()),int(tienda3['Costo de envío'].mean()),int(tienda4['Costo de envío'].mean())]\n",
        "\n",
        "for i in range(len(promedio_envio)):\n",
        "    print(f\"Costo promedio envio tienda {i+1}\")\n",
        "    print(promedio_envio[i])\n",
        "    print('\\n')"
      ]
    },
    {
      "cell_type": "markdown",
      "metadata": {},
      "source": [
        "# 6. Presentación de Graficas y Resultados"
      ]
    },
    {
      "cell_type": "markdown",
      "metadata": {},
      "source": [
        "Analizamos visualmente las tiendas en materia de ingresos"
      ]
    },
    {
      "cell_type": "code",
      "execution_count": 60,
      "metadata": {},
      "outputs": [
        {
          "data": {
            "image/png": "[encoded data removed]",
            "text/plain": [
              "<Figure size 640x480 with 1 Axes>"
            ]
          },
          "metadata": {},
          "output_type": "display_data"
        }
      ],
      "source": [
        "#Datos\n",
        "\n",
        "x = ['tienda 1', 'tienda 2', 'tienda 3', 'tienda 4']\n",
        "y = ingresos.copy()\n",
        "colores = [\"#11e124\", \"#1f9649\", \"#d8eb0b\", \"#eb350b\"]\n",
        "\n",
        "fig, ax = plt.subplots()\n",
        "plt.title('Ingresos de Cada Tienda')\n",
        "bars = ax.bar(x=x, height=y, color=colores)\n",
        "ax.bar_label(bars, fmt='%.2f') \n",
        "plt.ylabel('Ingresos ($)')\n",
        "plt.tight_layout()\n",
        "plt.show()\n",
        "\n"
      ]
    },
    {
      "cell_type": "markdown",
      "metadata": {},
      "source": [
        "Observamos como la tienda 1 es la que posee mayores ingresos. Ahora bien podemos revisar para las tiendas cual es el costo promedio del envio"
      ]
    },
    {
      "cell_type": "code",
      "execution_count": 62,
      "metadata": {},
      "outputs": [
        {
          "data": {
            "text/plain": [
              "<BarContainer object of 4 artists>"
            ]
          },
          "execution_count": 62,
          "metadata": {},
          "output_type": "execute_result"
        },
        {
          "data": {
            "image/png": "[encoded data removed]",
            "text/plain": [
              "<Figure size 640x480 with 1 Axes>"
            ]
          },
          "metadata": {},
          "output_type": "display_data"
        }
      ],
      "source": [
        "#Datos\n",
        "x = ['tienda 1', 'tienda 2', 'tienda 3', 'tienda 4']\n",
        "y = promedio_envio.copy()\n",
        "colores = [\"#11e124\", \"#1f9649\", \"#d8eb0b\",\"#eb350b\"]\n",
        "\n",
        "#grafico de barras\n",
        "fig, ax = plt.subplots()\n",
        "plt.title('Costo Promedio de Envio')\n",
        "ax.barh(x, width = y, color = colores)\n",
        "\n"
      ]
    },
    {
      "cell_type": "markdown",
      "metadata": {},
      "source": [
        "Curiosamente observamos que la tienda 1 a pesar de tener los mayores ingresos, es también la tienda con mayor costo de envio promedio. Por ultimo podemos observar la calificación de las tiendas:"
      ]
    },
    {
      "cell_type": "code",
      "execution_count": 56,
      "metadata": {},
      "outputs": [
        {
          "data": {
            "image/png": "[encoded data removed]",
            "text/plain": [
              "<Figure size 640x480 with 1 Axes>"
            ]
          },
          "metadata": {},
          "output_type": "display_data"
        }
      ],
      "source": [
        "etiquetas = 'tienda 1', 'tienda 2', 'tienda 3', 'tienda 4'\n",
        "sizes = calificaciones.copy()\n",
        "\n",
        "plt.pie(sizes, labels=etiquetas, autopct=lambda p: f'{p * sum(sizes) / 100:.2f}')\n",
        "plt.title('Calificación promedio por tienda')\n",
        "plt.show()\n"
      ]
    },
    {
      "cell_type": "markdown",
      "metadata": {},
      "source": [
        "# 7. Informe Final"
      ]
    },
    {
      "cell_type": "markdown",
      "metadata": {},
      "source": [
        "Teniendo en cuenta todos los factores analizados, como:\n",
        "\n",
        "- Los ingresos totales de las tiendas.\n",
        "\n",
        "- Las categorías de productos más y menos vendidas.\n",
        "\n",
        "- Las calificaciones promedio de los clientes por tienda.\n",
        "\n",
        "- Los productos más y menos vendidos.\n",
        "\n",
        "- El coste de envío promedio para cada tienda.\n"
      ]
    },
    {
      "cell_type": "markdown",
      "metadata": {},
      "source": [
        "Observamos unos elementos destacables, la tienda 4 es la que menor ingresos tiene, las diferencias entre todas las tiendas en materia de calificación no es grande y la tienda 1 en este sentido es la de menor calificación, al igual que es la tienda con mayor costo promedio de envio. Sin embargo, la tienda 1 es la que mayores ingresos reporta, cerca de un 5% mas que las demás, por lo que no sería adecuada para vender.\n",
        "\n",
        "Al observar los productos vendidos por cada tienda, las categorias más representativas de todos las tiendas resultan ser los muebles, electronicos y juguetes, en este sentido observamos que la tienda 4 vende productos diversos aunque no necesariamente de alto valor o especialización y aunque estos productos vendidos son parecidos a otras tiendas no tiene tantos ingresos.\n",
        "\n",
        "La tienda 4 tiene el ingreso más bajo de todas las tiendas, su calificación es aceptable pero no destaca, el costo de envio promedio es el más bajo pero esto no compensa los demás factores, las categorias de productos son similares a las demás por lo que no se diferencia claramente.\n",
        "\n",
        "Debido a esto la recomendación es vender la tienda 4."
      ]
    }
  ],
  "metadata": {
    "colab": {
      "provenance": []
    },
    "kernelspec": {
      "display_name": "Python 3",
      "name": "python3"
    },
    "language_info": {
      "codemirror_mode": {
        "name": "ipython",
        "version": 3
      },
      "file_extension": ".py",
      "mimetype": "text/x-python",
      "name": "python",
      "nbconvert_exporter": "python",
      "pygments_lexer": "ipython3",
      "version": "3.12.6"
    }
  },
  "nbformat": 4,
  "nbformat_minor": 0
}
